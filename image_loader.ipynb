{
 "cells": [
  {
   "cell_type": "code",
   "execution_count": 40,
   "metadata": {},
   "outputs": [],
   "source": [
    "from PIL import Image\n",
    "import os\n",
    "import random\n",
    "\n",
    "from PIL import ImagePalette\n",
    "import numpy as np"
   ]
  },
  {
   "cell_type": "code",
   "execution_count": 41,
   "metadata": {},
   "outputs": [],
   "source": [
    "res_h = 3\n",
    "res_w = 4"
   ]
  },
  {
   "cell_type": "code",
   "execution_count": 42,
   "metadata": {},
   "outputs": [],
   "source": [
    "pitman_list = \"\"\"\n",
    "007\n",
    "009\n",
    "024\n",
    "028\n",
    "034\n",
    "038\n",
    "047\n",
    "049\n",
    "052\n",
    "056\n",
    "060\n",
    "064\n",
    "065\n",
    "080\n",
    "084\n",
    "085\n",
    "087\n",
    "089\n",
    "090\n",
    "093\n",
    "100\n",
    "105\n",
    "111\n",
    "113\n",
    "116\n",
    "121\n",
    "124\n",
    "129\n",
    "134\n",
    "151\n",
    "152\n",
    "158\n",
    "164\n",
    "168\n",
    "179\n",
    "186\n",
    "189\n",
    "190\n",
    "198\n",
    "201\n",
    "207\n",
    "236\n",
    "250\n",
    "256\n",
    "\"\"\""
   ]
  },
  {
   "cell_type": "code",
   "execution_count": 43,
   "metadata": {},
   "outputs": [],
   "source": [
    "pitman_list = pitman_list.split('\\n')[1:]"
   ]
  },
  {
   "cell_type": "code",
   "execution_count": 44,
   "metadata": {},
   "outputs": [
    {
     "name": "stdout",
     "output_type": "stream",
     "text": [
      "Recovered 2200 images\n"
     ]
    }
   ],
   "source": [
    "list_of_files = []\n",
    "\n",
    "for folder in os.listdir('256_ObjectCategories/'):\n",
    "    PATH = '256_ObjectCategories/'+folder\n",
    "    if folder[:3] in pitman_list:\n",
    "        os.mkdir('chopped_images/'+folder)\n",
    "        if os.path.isdir(PATH):\n",
    "            list_of_files+= [[PATH + '/' + file, folder] for file in \n",
    "                             os.listdir('256_ObjectCategories/'+folder)[:50] if \n",
    "                             file[-3:] in ['png','jpg','jpeg']]\n",
    "                \n",
    "print('Recovered {} images'.format(len(list_of_files)))"
   ]
  },
  {
   "cell_type": "code",
   "execution_count": 45,
   "metadata": {},
   "outputs": [
    {
     "name": "stderr",
     "output_type": "stream",
     "text": [
      " 47%|████▋     | 1025/2200 [00:09<00:11, 103.52it/s]/usr/local/lib/python3.6/site-packages/tqdm/_monitor.py:89: TqdmSynchronisationWarning: Set changed size during iteration (see https://github.com/tqdm/tqdm/issues/481)\n",
      "  TqdmSynchronisationWarning)\n",
      "100%|██████████| 2200/2200 [00:17<00:00, 122.96it/s]\n"
     ]
    }
   ],
   "source": [
    "from tqdm import tqdm\n",
    "\n",
    "count = 0\n",
    "h = 0\n",
    "v = 0\n",
    "usable_files = []\n",
    "for [file, tag] in tqdm(list_of_files):\n",
    "    im = Image.open(file)\n",
    "    \n",
    "    im_array = np.array(im)\n",
    "    h = im_array.shape[0]\n",
    "    v = im_array.shape[1]\n",
    "    \n",
    "    ratio = v/h\n",
    "    \n",
    "    if h > 600:\n",
    "        if ratio >= (res_w/res_h - 0.2) and ratio <= (res_w/res_h + 0.2):\n",
    "            usable_files += [[file,tag]]"
   ]
  },
  {
   "cell_type": "code",
   "execution_count": 46,
   "metadata": {},
   "outputs": [],
   "source": [
    "im = Image.open(usable_files[0][0])\n",
    "\n",
    "im_array = np.array(im)"
   ]
  },
  {
   "cell_type": "code",
   "execution_count": 47,
   "metadata": {},
   "outputs": [
    {
     "data": {
      "text/plain": [
       "(768, 1024, 3)"
      ]
     },
     "execution_count": 47,
     "metadata": {},
     "output_type": "execute_result"
    }
   ],
   "source": [
    "im_array.shape"
   ]
  },
  {
   "cell_type": "code",
   "execution_count": 48,
   "metadata": {},
   "outputs": [
    {
     "data": {
      "text/plain": [
       "'087'"
      ]
     },
     "execution_count": 48,
     "metadata": {},
     "output_type": "execute_result"
    }
   ],
   "source": [
    "idx = file.split('/')[1][:3]\n",
    "idx"
   ]
  },
  {
   "cell_type": "code",
   "execution_count": 49,
   "metadata": {},
   "outputs": [
    {
     "name": "stderr",
     "output_type": "stream",
     "text": [
      " 69%|██████▊   | 48/70 [00:09<00:04,  4.88it/s]/usr/local/lib/python3.6/site-packages/tqdm/_monitor.py:89: TqdmSynchronisationWarning: Set changed size during iteration (see https://github.com/tqdm/tqdm/issues/481)\n",
      "  TqdmSynchronisationWarning)\n",
      "100%|██████████| 70/70 [00:13<00:00,  5.10it/s]\n"
     ]
    }
   ],
   "source": [
    "files_to_save_to_amazon = []\n",
    "complete_files_to_save_to_amazon = []\n",
    "\n",
    "for [file, tag] in tqdm(usable_files):\n",
    "    im = Image.open(file)\n",
    "    \n",
    "    im_array = np.array(im)\n",
    "    \n",
    "    h = im_array.shape[0]\n",
    "    v = im_array.shape[1]\n",
    "    \n",
    "    each_piece_h = int(h/4)\n",
    "    each_piece_v = int(v/4)\n",
    "    \n",
    "    image_name = file.split('/')[-1]\n",
    "    \n",
    "    idx = file.split('/')[1][:3]\n",
    "    \n",
    "    if idx in pitman_list:\n",
    "        path_to_save = 'chopped_images/' + tag + '/' + image_name[:-4]\n",
    "        if not os.path.isdir(path_to_save):\n",
    "            os.mkdir(path_to_save)\n",
    "\n",
    "            im.save(path_to_save + '/' + image_name[:-4] + '_total.jpg')\n",
    "            \n",
    "            complete_files_to_save_to_amazon += [path_to_save + '/' + image_name[:-4] + '_total.jpg']\n",
    "\n",
    "            count_of_crops = 0\n",
    "            for i in range(4):\n",
    "                for j in range(4):\n",
    "                    cropped_im = im.crop((each_piece_v*i, each_piece_h*j, each_piece_v*(i+1), each_piece_h*(j+1)))\n",
    "                    cropped_im.save(path_to_save+ '/' + image_name[:-4] \n",
    "                                    +'_{}.jpg'.format(count_of_crops))\n",
    "                    \n",
    "                    files_to_save_to_amazon += [path_to_save+ '/' + image_name[:-4] \n",
    "                                    +'_{}.jpg'.format(count_of_crops)]\n",
    "\n",
    "                    count_of_crops += 1"
   ]
  },
  {
   "cell_type": "code",
   "execution_count": 31,
   "metadata": {},
   "outputs": [],
   "source": [
    "file = usable_files[0][0]"
   ]
  },
  {
   "cell_type": "code",
   "execution_count": 50,
   "metadata": {},
   "outputs": [
    {
     "name": "stdout",
     "output_type": "stream",
     "text": [
      "(200, 176, 3)\n",
      "(200, 176, 3)\n",
      "(200, 176, 3)\n",
      "(200, 176, 3)\n",
      "(200, 176, 3)\n",
      "(200, 176, 3)\n",
      "(200, 176, 3)\n",
      "(200, 176, 3)\n",
      "(200, 176, 3)\n",
      "(200, 176, 3)\n",
      "(200, 176, 3)\n",
      "(200, 176, 3)\n",
      "(200, 176, 3)\n",
      "(200, 176, 3)\n",
      "(200, 176, 3)\n",
      "(200, 176, 3)\n"
     ]
    }
   ],
   "source": [
    "for i in range(4):\n",
    "    for j in range(4):\n",
    "        cropped_im = im.crop((each_piece_h*i, each_piece_v*j, each_piece_h*(i+1), each_piece_v*(j+1)))\n",
    "        cropped_im.save(path_to_save+ '/' + image_name[:-4] \n",
    "                                    +'_{}.jpg'.format(count_of_crops))\n",
    "                    \n",
    "        files_to_save_to_amazon += [path_to_save+ '/' + image_name[:-4] \n",
    "                                    +'_{}.jpg'.format(count_of_crops)]\n",
    "        \n",
    "        print(np.array(cropped_im).shape)"
   ]
  },
  {
   "cell_type": "code",
   "execution_count": 67,
   "metadata": {},
   "outputs": [],
   "source": [
    "complete_files_list = [name.split('/')[1] + '/' + name.split('/')[3][:-10] for name in complete_files_to_save_to_amazon]"
   ]
  },
  {
   "cell_type": "code",
   "execution_count": 75,
   "metadata": {},
   "outputs": [],
   "source": [
    "with open('martin_crazy_list.txt','w') as f:\n",
    "    f.write('\\n'.join(complete_files_list))"
   ]
  },
  {
   "cell_type": "code",
   "execution_count": 76,
   "metadata": {},
   "outputs": [],
   "source": [
    "bucket_name = 'filament-hackathon-images'\n",
    "\n",
    "# Uploads the given file using a managed uploader, which will split up large\n",
    "# files automatically and upload parts in parallel.\n",
    "s3.upload_file('martin_crazy_list.txt', bucket_name, 'martin_crazy_list.txt')"
   ]
  },
  {
   "cell_type": "code",
   "execution_count": 51,
   "metadata": {},
   "outputs": [],
   "source": [
    "import boto3\n",
    "import os\n",
    "\n",
    "# Create an S3 client\n",
    "s3 = boto3.client('s3')\n",
    "\n",
    "for filename in complete_files_to_save_to_amazon:\n",
    "    bucket_name = 'filament-hackathon-images'\n",
    "\n",
    "    # Uploads the given file using a managed uploader, which will split up large\n",
    "    # files automatically and upload parts in parallel.\n",
    "    s3.upload_file(filename, bucket_name, filename)"
   ]
  },
  {
   "cell_type": "code",
   "execution_count": 52,
   "metadata": {},
   "outputs": [
    {
     "name": "stderr",
     "output_type": "stream",
     "text": [
      " 24%|██▍       | 276/1136 [00:09<00:30, 27.83it/s]/usr/local/lib/python3.6/site-packages/tqdm/_monitor.py:89: TqdmSynchronisationWarning: Set changed size during iteration (see https://github.com/tqdm/tqdm/issues/481)\n",
      "  TqdmSynchronisationWarning)\n",
      "100%|██████████| 1136/1136 [00:48<00:00, 23.55it/s]\n"
     ]
    }
   ],
   "source": [
    "for filename in tqdm(files_to_save_to_amazon):\n",
    "    bucket_name = 'filament-hackathon-images'\n",
    "\n",
    "    # Uploads the given file using a managed uploader, which will split up large\n",
    "    # files automatically and upload parts in parallel.\n",
    "    s3.upload_file(filename, bucket_name, filename)"
   ]
  }
 ],
 "metadata": {
  "kernelspec": {
   "display_name": "Python 3",
   "language": "python",
   "name": "python3"
  },
  "language_info": {
   "codemirror_mode": {
    "name": "ipython",
    "version": 3
   },
   "file_extension": ".py",
   "mimetype": "text/x-python",
   "name": "python",
   "nbconvert_exporter": "python",
   "pygments_lexer": "ipython3",
   "version": "3.6.5"
  }
 },
 "nbformat": 4,
 "nbformat_minor": 2
}
